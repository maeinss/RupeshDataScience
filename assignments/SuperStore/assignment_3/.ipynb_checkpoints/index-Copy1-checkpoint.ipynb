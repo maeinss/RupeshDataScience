{
 "cells": [
  {
   "cell_type": "markdown",
   "metadata": {},
   "source": [
    "# [Table Of Contents](#)\n",
    "### The Art of Data Storytelling"
   ]
  },
  {
   "cell_type": "markdown",
   "metadata": {},
   "source": [
    "# The Global Superstore Case\n",
    "\n",
    "This page contains student files for the case \"Modern Retail Analytics: Data Visualization Using Tableau.\" It includes three detailed tutorials that can be used by instructors in the classroom to introduce students to Tableau and Data Storytelling in the context of retail strategy and operations (using the [Global Superstore dataset](files/Global.Superstore.xlsx) that is made available with Tableau). "
   ]
  },
  {
   "cell_type": "markdown",
   "metadata": {},
   "source": [
    "### Assignment Three"
   ]
  },
  {
   "cell_type": "markdown",
   "metadata": {},
   "source": [
    "1. Assess Nigeria’s profitability (i.e., total profit) for 2014. How does it compare to other African countries?\n",
    "2. What factors might be responsible for Nigeria’s poor performance? You might want to investigate shipping costs and the average discount as potential root causes."
   ]
  },
  {
   "cell_type": "code",
   "execution_count": 24,
   "metadata": {},
   "outputs": [],
   "source": [
    "import pandas as pd\n",
    "import numpy as np"
   ]
  },
  {
   "cell_type": "code",
   "execution_count": 41,
   "metadata": {},
   "outputs": [],
   "source": [
    "# dataStore = pd.read_csv('Global.Superstore.xlsx', error_bad_lines=False)\n",
    "# df = pd.read_csv(\"Global.Superstore.xlsx\")\n",
    "fileName=\"Global.Superstore.xlsx\"\n",
    "df = pd.read_excel(fileName)"
   ]
  },
  {
   "cell_type": "code",
   "execution_count": 43,
   "metadata": {},
   "outputs": [
    {
     "data": {
      "text/html": [
       "<div>\n",
       "<style scoped>\n",
       "    .dataframe tbody tr th:only-of-type {\n",
       "        vertical-align: middle;\n",
       "    }\n",
       "\n",
       "    .dataframe tbody tr th {\n",
       "        vertical-align: top;\n",
       "    }\n",
       "\n",
       "    .dataframe thead th {\n",
       "        text-align: right;\n",
       "    }\n",
       "</style>\n",
       "<table border=\"1\" class=\"dataframe\">\n",
       "  <thead>\n",
       "    <tr style=\"text-align: right;\">\n",
       "      <th></th>\n",
       "      <th>Row ID</th>\n",
       "      <th>Order ID</th>\n",
       "      <th>Order Date</th>\n",
       "      <th>Ship Date</th>\n",
       "      <th>Ship Mode</th>\n",
       "      <th>Customer ID</th>\n",
       "      <th>Customer Name</th>\n",
       "      <th>Segment</th>\n",
       "      <th>City</th>\n",
       "      <th>State</th>\n",
       "      <th>...</th>\n",
       "      <th>Product ID</th>\n",
       "      <th>Category</th>\n",
       "      <th>Sub-Category</th>\n",
       "      <th>Product Name</th>\n",
       "      <th>Sales</th>\n",
       "      <th>Quantity</th>\n",
       "      <th>Discount</th>\n",
       "      <th>Profit</th>\n",
       "      <th>Shipping Cost</th>\n",
       "      <th>Order Priority</th>\n",
       "    </tr>\n",
       "  </thead>\n",
       "  <tbody>\n",
       "    <tr>\n",
       "      <th>51285</th>\n",
       "      <td>29002</td>\n",
       "      <td>IN-2014-62366</td>\n",
       "      <td>2016-06-19</td>\n",
       "      <td>2016-06-19 00:00:00</td>\n",
       "      <td>Same Day</td>\n",
       "      <td>KE-16420</td>\n",
       "      <td>Katrina Edelman</td>\n",
       "      <td>Corporate</td>\n",
       "      <td>Kure</td>\n",
       "      <td>Hiroshima</td>\n",
       "      <td>...</td>\n",
       "      <td>OFF-FA-10000746</td>\n",
       "      <td>Office Supplies</td>\n",
       "      <td>Fasteners</td>\n",
       "      <td>Advantus Thumb Tacks, 12 Pack</td>\n",
       "      <td>65.100</td>\n",
       "      <td>5</td>\n",
       "      <td>0.0</td>\n",
       "      <td>4.5000</td>\n",
       "      <td>0.010</td>\n",
       "      <td>Medium</td>\n",
       "    </tr>\n",
       "    <tr>\n",
       "      <th>51286</th>\n",
       "      <td>35398</td>\n",
       "      <td>US-2014-102288</td>\n",
       "      <td>2016-06-20</td>\n",
       "      <td>2016-06-24 00:00:00</td>\n",
       "      <td>Standard Class</td>\n",
       "      <td>ZC-21910</td>\n",
       "      <td>Zuschuss Carroll</td>\n",
       "      <td>Consumer</td>\n",
       "      <td>Houston</td>\n",
       "      <td>Texas</td>\n",
       "      <td>...</td>\n",
       "      <td>OFF-AP-10002906</td>\n",
       "      <td>Office Supplies</td>\n",
       "      <td>Appliances</td>\n",
       "      <td>Hoover Replacement Belt for Commercial Guardsm...</td>\n",
       "      <td>0.444</td>\n",
       "      <td>1</td>\n",
       "      <td>0.8</td>\n",
       "      <td>-1.1100</td>\n",
       "      <td>0.010</td>\n",
       "      <td>Medium</td>\n",
       "    </tr>\n",
       "    <tr>\n",
       "      <th>51287</th>\n",
       "      <td>40470</td>\n",
       "      <td>US-2013-155768</td>\n",
       "      <td>2015-12-02</td>\n",
       "      <td>2015-12-02 00:00:00</td>\n",
       "      <td>Same Day</td>\n",
       "      <td>LB-16795</td>\n",
       "      <td>Laurel Beltran</td>\n",
       "      <td>Home Office</td>\n",
       "      <td>Oxnard</td>\n",
       "      <td>California</td>\n",
       "      <td>...</td>\n",
       "      <td>OFF-EN-10001219</td>\n",
       "      <td>Office Supplies</td>\n",
       "      <td>Envelopes</td>\n",
       "      <td>#10- 4 1/8\" x 9 1/2\" Security-Tint Envelopes</td>\n",
       "      <td>22.920</td>\n",
       "      <td>3</td>\n",
       "      <td>0.0</td>\n",
       "      <td>11.2308</td>\n",
       "      <td>0.010</td>\n",
       "      <td>High</td>\n",
       "    </tr>\n",
       "    <tr>\n",
       "      <th>51288</th>\n",
       "      <td>9596</td>\n",
       "      <td>MX-2012-140767</td>\n",
       "      <td>2014-02-18</td>\n",
       "      <td>2014-02-22 00:00:00</td>\n",
       "      <td>Standard Class</td>\n",
       "      <td>RB-19795</td>\n",
       "      <td>Ross Baird</td>\n",
       "      <td>Home Office</td>\n",
       "      <td>Valinhos</td>\n",
       "      <td>São Paulo</td>\n",
       "      <td>...</td>\n",
       "      <td>OFF-BI-10000806</td>\n",
       "      <td>Office Supplies</td>\n",
       "      <td>Binders</td>\n",
       "      <td>Acco Index Tab, Economy</td>\n",
       "      <td>13.440</td>\n",
       "      <td>2</td>\n",
       "      <td>0.0</td>\n",
       "      <td>2.4000</td>\n",
       "      <td>0.003</td>\n",
       "      <td>Medium</td>\n",
       "    </tr>\n",
       "    <tr>\n",
       "      <th>51289</th>\n",
       "      <td>6147</td>\n",
       "      <td>MX-2012-134460</td>\n",
       "      <td>2014-05-22</td>\n",
       "      <td>2014-05-26 00:00:00</td>\n",
       "      <td>Second Class</td>\n",
       "      <td>MC-18100</td>\n",
       "      <td>Mick Crebagga</td>\n",
       "      <td>Consumer</td>\n",
       "      <td>Tipitapa</td>\n",
       "      <td>Managua</td>\n",
       "      <td>...</td>\n",
       "      <td>OFF-PA-10004155</td>\n",
       "      <td>Office Supplies</td>\n",
       "      <td>Paper</td>\n",
       "      <td>Eaton Computer Printout Paper, 8.5 x 11</td>\n",
       "      <td>61.380</td>\n",
       "      <td>3</td>\n",
       "      <td>0.0</td>\n",
       "      <td>1.8000</td>\n",
       "      <td>0.002</td>\n",
       "      <td>High</td>\n",
       "    </tr>\n",
       "  </tbody>\n",
       "</table>\n",
       "<p>5 rows × 24 columns</p>\n",
       "</div>"
      ],
      "text/plain": [
       "       Row ID        Order ID Order Date            Ship Date       Ship Mode  \\\n",
       "51285   29002   IN-2014-62366 2016-06-19  2016-06-19 00:00:00        Same Day   \n",
       "51286   35398  US-2014-102288 2016-06-20  2016-06-24 00:00:00  Standard Class   \n",
       "51287   40470  US-2013-155768 2015-12-02  2015-12-02 00:00:00        Same Day   \n",
       "51288    9596  MX-2012-140767 2014-02-18  2014-02-22 00:00:00  Standard Class   \n",
       "51289    6147  MX-2012-134460 2014-05-22  2014-05-26 00:00:00    Second Class   \n",
       "\n",
       "      Customer ID     Customer Name      Segment      City       State  ...  \\\n",
       "51285    KE-16420   Katrina Edelman    Corporate      Kure   Hiroshima  ...   \n",
       "51286    ZC-21910  Zuschuss Carroll     Consumer   Houston       Texas  ...   \n",
       "51287    LB-16795    Laurel Beltran  Home Office    Oxnard  California  ...   \n",
       "51288    RB-19795        Ross Baird  Home Office  Valinhos   São Paulo  ...   \n",
       "51289    MC-18100     Mick Crebagga     Consumer  Tipitapa     Managua  ...   \n",
       "\n",
       "            Product ID         Category Sub-Category  \\\n",
       "51285  OFF-FA-10000746  Office Supplies    Fasteners   \n",
       "51286  OFF-AP-10002906  Office Supplies   Appliances   \n",
       "51287  OFF-EN-10001219  Office Supplies    Envelopes   \n",
       "51288  OFF-BI-10000806  Office Supplies      Binders   \n",
       "51289  OFF-PA-10004155  Office Supplies        Paper   \n",
       "\n",
       "                                            Product Name   Sales Quantity  \\\n",
       "51285                      Advantus Thumb Tacks, 12 Pack  65.100        5   \n",
       "51286  Hoover Replacement Belt for Commercial Guardsm...   0.444        1   \n",
       "51287       #10- 4 1/8\" x 9 1/2\" Security-Tint Envelopes  22.920        3   \n",
       "51288                            Acco Index Tab, Economy  13.440        2   \n",
       "51289            Eaton Computer Printout Paper, 8.5 x 11  61.380        3   \n",
       "\n",
       "      Discount   Profit  Shipping Cost  Order Priority  \n",
       "51285      0.0   4.5000          0.010          Medium  \n",
       "51286      0.8  -1.1100          0.010          Medium  \n",
       "51287      0.0  11.2308          0.010            High  \n",
       "51288      0.0   2.4000          0.003          Medium  \n",
       "51289      0.0   1.8000          0.002            High  \n",
       "\n",
       "[5 rows x 24 columns]"
      ]
     },
     "execution_count": 43,
     "metadata": {},
     "output_type": "execute_result"
    }
   ],
   "source": [
    "df.tail()"
   ]
  },
  {
   "cell_type": "code",
   "execution_count": 44,
   "metadata": {},
   "outputs": [
    {
     "name": "stdout",
     "output_type": "stream",
     "text": [
      "(51290, 24)\n",
      "Index(['Row ID', 'Order ID', 'Order Date', 'Ship Date', 'Ship Mode',\n",
      "       'Customer ID', 'Customer Name', 'Segment', 'City', 'State', 'Country',\n",
      "       'Postal Code', 'Market', 'Region', 'Product ID', 'Category',\n",
      "       'Sub-Category', 'Product Name', 'Sales', 'Quantity', 'Discount',\n",
      "       'Profit', 'Shipping Cost', 'Order Priority'],\n",
      "      dtype='object')\n"
     ]
    }
   ],
   "source": [
    "print(df.shape)\n",
    "print(df.columns)"
   ]
  },
  {
   "cell_type": "code",
   "execution_count": 45,
   "metadata": {},
   "outputs": [
    {
     "data": {
      "text/plain": [
       "dtype('O')"
      ]
     },
     "execution_count": 45,
     "metadata": {},
     "output_type": "execute_result"
    }
   ],
   "source": [
    "df.dtypes[\"Country\"]"
   ]
  },
  {
   "cell_type": "code",
   "execution_count": 48,
   "metadata": {},
   "outputs": [
    {
     "data": {
      "text/plain": [
       "0        United States\n",
       "1            Australia\n",
       "2            Australia\n",
       "3              Germany\n",
       "4              Senegal\n",
       "             ...      \n",
       "51285            Japan\n",
       "51286    United States\n",
       "51287    United States\n",
       "51288           Brazil\n",
       "51289        Nicaragua\n",
       "Name: Country, Length: 51290, dtype: object"
      ]
     },
     "execution_count": 48,
     "metadata": {},
     "output_type": "execute_result"
    }
   ],
   "source": [
    "df.Country"
   ]
  },
  {
   "cell_type": "code",
   "execution_count": null,
   "metadata": {},
   "outputs": [],
   "source": []
  }
 ],
 "metadata": {
  "kernelspec": {
   "display_name": "Python 3",
   "language": "python",
   "name": "python3"
  },
  "language_info": {
   "codemirror_mode": {
    "name": "ipython",
    "version": 3
   },
   "file_extension": ".py",
   "mimetype": "text/x-python",
   "name": "python",
   "nbconvert_exporter": "python",
   "pygments_lexer": "ipython3",
   "version": "3.7.6"
  }
 },
 "nbformat": 4,
 "nbformat_minor": 4
}
